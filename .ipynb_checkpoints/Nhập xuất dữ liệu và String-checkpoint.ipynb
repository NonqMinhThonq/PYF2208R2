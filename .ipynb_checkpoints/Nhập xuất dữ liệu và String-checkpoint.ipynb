{
 "cells": [
  {
   "cell_type": "markdown",
   "id": "7ac14915",
   "metadata": {},
   "source": [
    "# Nhập xuất dữ liệu và String\n",
    "## Cách nhập xuất dữ liệu"
   ]
  },
  {
   "cell_type": "markdown",
   "id": "0f202ae8",
   "metadata": {},
   "source": [
    "### Xuất dữ liệu ra màn hình\n",
    "Để in các nội dung mà chúng ta mong muốn ra màn hình, ta sử dụng lệnh print()"
   ]
  },
  {
   "cell_type": "code",
   "execution_count": null,
   "id": "a6d3f260",
   "metadata": {},
   "outputs": [],
   "source": [
    "# Ví dụ: In ra nội dung \"python is very easy\"\n"
   ]
  },
  {
   "cell_type": "markdown",
   "id": "7733925a",
   "metadata": {},
   "source": [
    "### Các cách custom với lệnh print"
   ]
  },
  {
   "cell_type": "markdown",
   "id": "292ab570",
   "metadata": {},
   "source": [
    "Để in một nội dung kèm theo giá trị của biến, ta có các cách sau:"
   ]
  },
  {
   "cell_type": "code",
   "execution_count": 1,
   "id": "20ff912c",
   "metadata": {},
   "outputs": [],
   "source": [
    "food_1 = \"chocolate\"\n",
    "food_2 = \"sandwich\"\n",
    "# i love chocolate and i hate sandwich\n",
    "# i love \"--food_1--\"and hate \"==food 2--\""
   ]
  },
  {
   "cell_type": "code",
   "execution_count": 6,
   "id": "6407a448",
   "metadata": {},
   "outputs": [
    {
     "name": "stdout",
     "output_type": "stream",
     "text": [
      "i love chocolate and i hate sanwich\n"
     ]
    }
   ],
   "source": [
    "# In trực tiếp\n",
    "print(\"i love chocolate and i hate sanwich\")"
   ]
  },
  {
   "cell_type": "code",
   "execution_count": 8,
   "id": "27d098b8",
   "metadata": {},
   "outputs": [
    {
     "name": "stdout",
     "output_type": "stream",
     "text": [
      "i love chocolate and i hate sandwich\n"
     ]
    }
   ],
   "source": [
    "# In bằng cách ghép các nội dung với nhau\n",
    "print (\"i love\",food_1, \"and i hate\",food_2)"
   ]
  },
  {
   "cell_type": "code",
   "execution_count": 5,
   "id": "717666f2",
   "metadata": {},
   "outputs": [
    {
     "name": "stdout",
     "output_type": "stream",
     "text": [
      "i love chocolate and i hate sandwich\n"
     ]
    }
   ],
   "source": [
    "# Sử dụng String Format\n",
    "print(f'i love {food_1} and i hate {food_2}')"
   ]
  },
  {
   "cell_type": "code",
   "execution_count": 10,
   "id": "c7276e05",
   "metadata": {},
   "outputs": [
    {
     "name": "stdout",
     "output_type": "stream",
     "text": [
      "i lovechocolate and i hatesandwich\n"
     ]
    }
   ],
   "source": [
    "# Sử dụng nhiều lệnh print\n",
    "print(\"i love \",end='')\n",
    "print(food_1, end='')\n",
    "print(\" and i hate\", end='')\n",
    "print(food_2)"
   ]
  },
  {
   "cell_type": "markdown",
   "id": "e10788fb",
   "metadata": {},
   "source": [
    "### Nhập dữ liệu\n",
    "Để nhập dữ liệu vào chương trình python, chúng ta sử dụng hàm input()"
   ]
  },
  {
   "cell_type": "code",
   "execution_count": 13,
   "id": "b8b8afd3",
   "metadata": {
    "scrolled": true
   },
   "outputs": [
    {
     "name": "stdout",
     "output_type": "stream",
     "text": [
      "input your name, please: 99\n",
      "99\n",
      "<class 'str'>\n"
     ]
    }
   ],
   "source": [
    "name = input(\"enter your name, please: \")\n",
    "print(name)\n",
    "print(type(name))"
   ]
  },
  {
   "cell_type": "markdown",
   "id": "337f9c15",
   "metadata": {},
   "source": [
    "#### Thực hành: Viết chương trình nhập vào chiều dài và chiều rộng của hình chữ nhật, sau đó in ra chu vi và diện tích của hình chữ nhật đó"
   ]
  },
  {
   "cell_type": "code",
   "execution_count": 15,
   "id": "fc332c68",
   "metadata": {},
   "outputs": [
    {
     "name": "stdout",
     "output_type": "stream",
     "text": [
      "input your kahoot mark, please: 123\n",
      "123\n",
      "<class 'int'>\n"
     ]
    }
   ],
   "source": [
    "score = int(input(\"enter your kahoot mark, please: \"))\n",
    "print(score)\n",
    "print(type(score))"
   ]
  },
  {
   "cell_type": "code",
   "execution_count": 16,
   "id": "add68103",
   "metadata": {},
   "outputs": [
    {
     "name": "stdout",
     "output_type": "stream",
     "text": [
      "nhập vào chiều dài: 5\n",
      "5.0\n",
      "nhập vào chiều rộng: 7\n"
     ]
    }
   ],
   "source": [
    "# Nhập các kích thước của hình chữ nhật\n",
    "dai = float(input(\"nhập vào chiều dài: \"))\n",
    "print(dai)\n",
    "rong = float(input(\"nhập vào chiều rộng: \"))\n",
    "print(rong)"
   ]
  },
  {
   "cell_type": "code",
   "execution_count": 18,
   "id": "7a1cd73e",
   "metadata": {},
   "outputs": [
    {
     "name": "stdout",
     "output_type": "stream",
     "text": [
      "24.0\n",
      "35.0\n"
     ]
    }
   ],
   "source": [
    "# Tính toán chu vi, diện tích\n",
    "chuvi = (dai+rong)*2\n",
    "print(chuvi)\n",
    "dientich = (dai * rong)\n",
    "print(dientich)"
   ]
  },
  {
   "cell_type": "code",
   "execution_count": 20,
   "id": "d0adf735",
   "metadata": {},
   "outputs": [
    {
     "name": "stdout",
     "output_type": "stream",
     "text": [
      "chuvi: 24.0  dientich: 35.0\n",
      "chi vi của hình chữ nhật là: 24.0, diện tích của hình chữ nhật là 35.0\n",
      "diện tích hinh chữ nhật là: 35.0\n",
      "chu vi hình chữ nhật là: 24.0\n"
     ]
    }
   ],
   "source": [
    "# In kết quả ra màn hình bằng 3 cách\n",
    "# cách 1\n",
    "print(\"chuvi:\", chuvi, \" dientich:\", dientich)\n",
    "# cach 2\n",
    "print(f\"chi vi của hình chữ nhật là: {chuvi}, diện tích của hình chữ nhật là {dientich}\")\n",
    "# cách 3\n",
    "print('diện tích hinh chữ nhật là: ', end='')\n",
    "print(dientich)\n",
    "print(\"chu vi hình chữ nhật là: \", end='')\n",
    "print(chuvi)"
   ]
  },
  {
   "cell_type": "markdown",
   "id": "fb54cb77",
   "metadata": {},
   "source": [
    "#### Thực hành: Viết chương trình nhập vào số đo cạnh và mã màu của tam giác đều, sau đó sử dụng turtle để vẽ ra hình tam giác có số đo và màu tương ứng"
   ]
  },
  {
   "cell_type": "code",
   "execution_count": null,
   "id": "7583b308",
   "metadata": {},
   "outputs": [],
   "source": [
    "import turtle\n",
    "\n",
    "side = int(input(\"enter side of triangle: \"))\n",
    "color = input ('enter triangle color: ')\n",
    "\n",
    "pen = turtle.Turle()\n",
    "pen.fillcolor(color)\n",
    "\n",
    "pen.forward(side)\n",
    "pen.left(120)\n",
    "pen.forward(side)\n",
    "pen.left(120)"
   ]
  },
  {
   "cell_type": "markdown",
   "id": "fa7cb208",
   "metadata": {},
   "source": [
    "## Cú pháp import"
   ]
  },
  {
   "cell_type": "markdown",
   "id": "ab2a2ea5",
   "metadata": {},
   "source": [
    "Để sử dụng một module từ bên ngoài, chúng ta sẽ sử dụng từ khóa import. Sau đây là ví dụ về một số cách import phổ biến."
   ]
  },
  {
   "cell_type": "markdown",
   "id": "bd6de377",
   "metadata": {},
   "source": [
    "### Random một giá trị ngẫu nhiên"
   ]
  },
  {
   "cell_type": "code",
   "execution_count": 22,
   "id": "ce5547f5",
   "metadata": {},
   "outputs": [
    {
     "name": "stdout",
     "output_type": "stream",
     "text": [
      "nhập vào 1 giá trị ngẫu nhiên: #RRGGBB\n",
      "#RRGGBB\n"
     ]
    }
   ],
   "source": [
    "a = input('nhập vào 1 giá trị ngẫu nhiên: ')\n",
    "print(a)"
   ]
  },
  {
   "cell_type": "markdown",
   "id": "dfa93dc0",
   "metadata": {},
   "source": [
    "### Thực hiện các phép toán số học"
   ]
  },
  {
   "cell_type": "code",
   "execution_count": 8,
   "id": "4f06f722",
   "metadata": {},
   "outputs": [],
   "source": [
    "# import toàn bộ module"
   ]
  },
  {
   "cell_type": "code",
   "execution_count": null,
   "id": "6b9e471b",
   "metadata": {},
   "outputs": [],
   "source": [
    "# import một phần trong module"
   ]
  },
  {
   "cell_type": "markdown",
   "id": "391969e7",
   "metadata": {},
   "source": [
    "## Xử lý String trong python"
   ]
  },
  {
   "cell_type": "markdown",
   "id": "ab461669",
   "metadata": {},
   "source": [
    "### String là gì?\n",
    "String là một chuỗi gồm các ký tự Unicode"
   ]
  },
  {
   "cell_type": "markdown",
   "id": "94a27b90",
   "metadata": {},
   "source": [
    "### Khởi tạo một string"
   ]
  },
  {
   "cell_type": "code",
   "execution_count": null,
   "id": "b14f4fcc",
   "metadata": {},
   "outputs": [],
   "source": [
    "# one-line string"
   ]
  },
  {
   "cell_type": "code",
   "execution_count": null,
   "id": "9cc506a7",
   "metadata": {},
   "outputs": [],
   "source": [
    "# multi-line string"
   ]
  },
  {
   "cell_type": "markdown",
   "id": "8f4270fd",
   "metadata": {},
   "source": [
    "### Các thao tác phổ biến với string"
   ]
  },
  {
   "cell_type": "code",
   "execution_count": null,
   "id": "c825f890",
   "metadata": {},
   "outputs": [],
   "source": [
    "# Kiểm tra độ dài string"
   ]
  },
  {
   "cell_type": "code",
   "execution_count": null,
   "id": "6de96621",
   "metadata": {},
   "outputs": [],
   "source": [
    "# Truy xuất ký tự bằng cơ chế indexing và reverse indexing"
   ]
  },
  {
   "cell_type": "markdown",
   "id": "a4f949d9",
   "metadata": {},
   "source": [
    "#### Thực hành: Viết chương trình nhập vào một chuỗi bất kỳ, sau đó in ra ký tự đầu tiên và ký tự cuối cùng của chuỗi đó."
   ]
  },
  {
   "cell_type": "code",
   "execution_count": null,
   "id": "14833f18",
   "metadata": {},
   "outputs": [],
   "source": []
  },
  {
   "cell_type": "code",
   "execution_count": null,
   "id": "9aad2f16",
   "metadata": {},
   "outputs": [],
   "source": [
    "# Cắt string theo index"
   ]
  },
  {
   "cell_type": "code",
   "execution_count": null,
   "id": "6ec63f90",
   "metadata": {},
   "outputs": [],
   "source": [
    "# Ghép chuỗi và lặp chuỗi"
   ]
  },
  {
   "cell_type": "markdown",
   "id": "84c2dcb9",
   "metadata": {},
   "source": [
    "#### Thực hành: Xử lý và in ra các thông tin tương ứng trong chuỗi"
   ]
  },
  {
   "cell_type": "code",
   "execution_count": null,
   "id": "cd71f135",
   "metadata": {},
   "outputs": [],
   "source": []
  },
  {
   "cell_type": "markdown",
   "id": "7cbd965f",
   "metadata": {},
   "source": [
    "### Các hàm thông dụng khi xử lý string"
   ]
  },
  {
   "cell_type": "code",
   "execution_count": null,
   "id": "eb5932a1",
   "metadata": {},
   "outputs": [],
   "source": [
    "# len"
   ]
  },
  {
   "cell_type": "code",
   "execution_count": null,
   "id": "6bef6d33",
   "metadata": {},
   "outputs": [],
   "source": [
    "# count"
   ]
  },
  {
   "cell_type": "code",
   "execution_count": null,
   "id": "1582bbd8",
   "metadata": {},
   "outputs": [],
   "source": [
    "# upper, lower"
   ]
  },
  {
   "cell_type": "code",
   "execution_count": null,
   "id": "0d08f708",
   "metadata": {},
   "outputs": [],
   "source": [
    "# lstrip, rstrip, strip"
   ]
  },
  {
   "cell_type": "code",
   "execution_count": null,
   "id": "62180d52",
   "metadata": {},
   "outputs": [],
   "source": [
    "# split"
   ]
  },
  {
   "cell_type": "markdown",
   "id": "032ba1fc",
   "metadata": {},
   "source": []
  }
 ],
 "metadata": {
  "kernelspec": {
   "display_name": "Python 3 (ipykernel)",
   "language": "python",
   "name": "python3"
  },
  "language_info": {
   "codemirror_mode": {
    "name": "ipython",
    "version": 3
   },
   "file_extension": ".py",
   "mimetype": "text/x-python",
   "name": "python",
   "nbconvert_exporter": "python",
   "pygments_lexer": "ipython3",
   "version": "3.10.7"
  }
 },
 "nbformat": 4,
 "nbformat_minor": 5
}
