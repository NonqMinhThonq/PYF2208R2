{
 "cells": [
  {
   "cell_type": "code",
   "execution_count": 2,
   "id": "4eae4bff",
   "metadata": {},
   "outputs": [],
   "source": [
    "## bài 1\n",
    "#viết chương trình nhập vào 1 chuỗi và in ra các kĩ tự có index là số chẵn trong chuỗi\n",
    "#vd: str = 'python'\n",
    "#output: pto"
   ]
  },
  {
   "cell_type": "code",
   "execution_count": 5,
   "id": "a408caa7",
   "metadata": {},
   "outputs": [
    {
     "name": "stdout",
     "output_type": "stream",
     "text": [
      "nhap string: nhap xuat du lieu\n",
      "na utd iu\n"
     ]
    }
   ],
   "source": [
    "string = input('nhap string: ')\n",
    "print(string[::2])"
   ]
  },
  {
   "cell_type": "markdown",
   "id": "0c05b0da",
   "metadata": {},
   "source": [
    "## bài 2\n",
    "nhập 1 só do ở đơn vị mét(m), in ra số đo vừa nhập ở đơn vị(cm)"
   ]
  },
  {
   "cell_type": "markdown",
   "id": "2d777679",
   "metadata": {},
   "source": [
    "## bài 3\n",
    "nhập vào 'tien luong theo gio' và 'số giờ' trong tháng, và 'tiền thưởng', sau đó\n",
    "in ra tổng thu nhập trong một tháng. Biết rằng tổng thu nhập = (tiền lương tính theo giờ * số giờ) + tiền thưởng."
   ]
  },
  {
   "cell_type": "code",
   "execution_count": 10,
   "id": "67911b7f",
   "metadata": {},
   "outputs": [
    {
     "name": "stdout",
     "output_type": "stream",
     "text": [
      "nhập vào số tiền lương theo giờ: 50000\n",
      "50000.0\n",
      "nhập vào số giờ: 3\n",
      "3.0\n",
      "nhập vào tiền thưởng: 7000\n",
      "7000.0\n",
      "157000.0\n"
     ]
    }
   ],
   "source": [
    "tien = float(input('nhập vào số tiền lương theo giờ: '))\n",
    "print(tien)\n",
    "gio = float( input('nhập vào số giờ: '))\n",
    "print(gio)\n",
    "thuong = float(input('nhập vào tiền thưởng: '))\n",
    "print(thuong)\n",
    "tong = ((tien * gio)+thuong)\n",
    "print(float(tong))"
   ]
  },
  {
   "cell_type": "markdown",
   "id": "90cb02f2",
   "metadata": {},
   "source": [
    "## bài 4\n",
    "nhập vào 1 string và 1 số x hãy xóa ký tự đầu tiên của string\n",
    "vd string \"hello python\" x = 3\n",
    "output \"lo puthon\"."
   ]
  },
  {
   "cell_type": "code",
   "execution_count": 11,
   "id": "27b051e4",
   "metadata": {},
   "outputs": [
    {
     "name": "stdout",
     "output_type": "stream",
     "text": [
      "Nhap mot chuoi bat ky: hello puthon\n",
      "Nhập x:3\n",
      "lo puthon\n"
     ]
    }
   ],
   "source": [
    "string = input(\"Nhap mot chuoi bat ky: \")\n",
    "x = int(input(\"Nhập x:\"))\n",
    "\n",
    "print(string[x:])\n"
   ]
  },
  {
   "cell_type": "code",
   "execution_count": null,
   "id": "0c4fe915",
   "metadata": {},
   "outputs": [],
   "source": [
    "nhap = input('nhap vào 1 chuỗi: ')\n"
   ]
  },
  {
   "cell_type": "markdown",
   "id": "23ea7fcc",
   "metadata": {},
   "source": [
    "## bài 5\n",
    "nhập vào 1 'string' kiểm tra xem đây có phải là 1 string dối xứng hay không"
   ]
  },
  {
   "cell_type": "code",
   "execution_count": 14,
   "id": "7cb1a324",
   "metadata": {},
   "outputs": [
    {
     "name": "stdout",
     "output_type": "stream",
     "text": [
      ">> nhap mot so tu nhien: 1233\n",
      "1233 khong phai la so doi xung\n"
     ]
    }
   ],
   "source": [
    "\n",
    "def symmetrical_num(n): \n",
    "    kt =0;\n",
    "    if ( n[::-1] == n):\n",
    "      kt = 1\n",
    "    return kt\n",
    "\n",
    "\n",
    "n = input(\">> nhap mot so tu nhien: \")\n",
    "check = symmetrical_num(n);\n",
    " \n",
    "if check == 1:\n",
    "    print(n,\"la so doi xung\")\n",
    "else:\n",
    "    print(n,\"khong phai la so doi xung\")\n"
   ]
  },
  {
   "cell_type": "code",
   "execution_count": 17,
   "id": "0829b398",
   "metadata": {},
   "outputs": [
    {
     "name": "stdout",
     "output_type": "stream",
     "text": [
      "nhập string: 12321\n",
      "True\n"
     ]
    }
   ],
   "source": [
    "string = input('nhập string: ')\n",
    "\n",
    "reversed_string = string[::-1]\n",
    "print(string==reversed_string)\n",
    "\n"
   ]
  },
  {
   "cell_type": "code",
   "execution_count": null,
   "id": "5e38bf72",
   "metadata": {},
   "outputs": [],
   "source": []
  },
  {
   "cell_type": "code",
   "execution_count": null,
   "id": "030e3a5d",
   "metadata": {},
   "outputs": [],
   "source": []
  }
 ],
 "metadata": {
  "kernelspec": {
   "display_name": "Python 3 (ipykernel)",
   "language": "python",
   "name": "python3"
  },
  "language_info": {
   "codemirror_mode": {
    "name": "ipython",
    "version": 3
   },
   "file_extension": ".py",
   "mimetype": "text/x-python",
   "name": "python",
   "nbconvert_exporter": "python",
   "pygments_lexer": "ipython3",
   "version": "3.10.7"
  }
 },
 "nbformat": 4,
 "nbformat_minor": 5
}
